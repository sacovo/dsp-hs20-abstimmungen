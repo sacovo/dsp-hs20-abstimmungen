{
 "cells": [
  {
   "cell_type": "markdown",
   "metadata": {},
   "source": [
    "Dieses Notebook habe ich nur verwendet um mit dem erwähnten Paper ein bisschen vertraut zu werden, es gehört also nicht zur Abgabe.\n",
    "Das ganze habe ich zu dem hier weitergeführt: https://app.semap.ch/date ([Source Code](https://gitlab.com/sacovo/swiss-magic-wall))"
   ]
  },
  {
   "cell_type": "code",
   "execution_count": 1,
   "metadata": {},
   "outputs": [
    {
     "name": "stdout",
     "output_type": "stream",
     "text": [
      "Populating the interactive namespace from numpy and matplotlib\n"
     ]
    }
   ],
   "source": [
    "import pandas as pd\n",
    "%pylab inline"
   ]
  },
  {
   "cell_type": "markdown",
   "metadata": {},
   "source": [
    "In diesem Notebook geht es darum, eine Hochrechnung für Abstimmungsresultate zu berechnen. Grundlage für diese Berechnungen ist das Paper [\"Sub-Matrix Factorization for Real-Time Vote Prediction\"](https://infoscience.epfl.ch/record/278872) von Immer Alexander, Kristof Victor, Grossglauser Matthias und Thiran Patrick.\n",
    "\n",
    "Der Algorithmus basiert auf den Resultaten von früheren Abstimmungen, daraus wird ein GLM berechnet, mit dem eine Prognose für die fehlenden Gemeinden berechnet werden können. Diese Prognosen können dann zusammengerechnet werden."
   ]
  },
  {
   "cell_type": "code",
   "execution_count": 2,
   "metadata": {},
   "outputs": [],
   "source": [
    "results = pd.read_csv(\n",
    "    'data/abstimmungen.csv', na_values=['...']\n",
    ").rename(\n",
    "    columns={\n",
    "        \"Kanton (-) / Bezirk (>>) / Gemeinde (......)\": \"Gemeinde\"\n",
    "    }\n",
    ").dropna()\n",
    "\n",
    "results['Gemeinde'] = results['Gemeinde'].str.replace(\n",
    "    r'\\.\\.\\.\\.\\.\\.', ''\n",
    ").replace(\n",
    "    \"Brione (Verzasca)\",\n",
    "    \"Verzasca\",\n",
    ").replace(\n",
    "    \"La Punt-Chamues-ch\",\n",
    "    \"La Punt Chamues-ch\"\n",
    ")"
   ]
  },
  {
   "cell_type": "code",
   "execution_count": 3,
   "metadata": {},
   "outputs": [],
   "source": [
    "yes_pivot = results.pivot(index=\"Gemeinde\", columns=\"Datum und Vorlage\", values=\"Ja in %\").reset_index().dropna()\n",
    "yes_pivot.columns.name = None\n",
    "yes_pivot.set_index(\"Gemeinde\", inplace=True)\n",
    "\n",
    "part_pivot = results.pivot(index=\"Gemeinde\", columns=\"Datum und Vorlage\", values=\"Beteiligung in %\").reset_index().dropna()\n",
    "part_pivot.columns.name = None\n",
    "part_pivot.set_index(\"Gemeinde\", inplace=True)\n",
    "\n",
    "people = results.pivot(index=\"Gemeinde\", columns=\"Datum und Vorlage\", values=\"Stimmberechtigte\").reset_index().dropna()\n",
    "people.columns.name = None\n",
    "people.set_index(\"Gemeinde\", inplace=True)"
   ]
  },
  {
   "cell_type": "code",
   "execution_count": 4,
   "metadata": {},
   "outputs": [],
   "source": [
    "latest_vote = \"2020-09-27 Volksinitiative «Für eine massvolle Zuwanderung (Begrenzungsinitiative)»\""
   ]
  },
  {
   "cell_type": "code",
   "execution_count": 5,
   "metadata": {},
   "outputs": [],
   "source": [
    "yes_matrix = yes_pivot.fillna(yes_pivot.mean()).to_numpy()\n",
    "part_matrix = part_pivot.fillna(part_pivot.mean()).to_numpy()"
   ]
  },
  {
   "cell_type": "code",
   "execution_count": 6,
   "metadata": {},
   "outputs": [],
   "source": [
    "Y_v = yes_matrix[:,:-1]\n",
    "Y_p = part_matrix[:,:-1]\n",
    "\n",
    "new_votes = yes_matrix[:,-1:]\n",
    "new_parts = part_matrix[:,-1:]"
   ]
  },
  {
   "cell_type": "markdown",
   "metadata": {},
   "source": [
    "Die Berechnung des Prognose folgt in folgenden Methoden. Zuerst wird aus allen alten Resultaten eine Matrix berechnet, mit der die Hochrechnung berechnet werden könnnen. Diese Methode muss nur einmal ausgeführt werden.\n",
    "Mit jedem neuen Zwischenresultat wird dann die zweite Methode aufgerufen, die daraus eine Hocherchnung berechnet."
   ]
  },
  {
   "cell_type": "code",
   "execution_count": 7,
   "metadata": {},
   "outputs": [],
   "source": [
    "def calculate_projection(Y):\n",
    "    u, s, v = np.linalg.svd(Y, full_matrices=False)\n",
    "    s = np.diag(s)\n",
    "    return np.dot(u, s)\n",
    "\n",
    "\n",
    "def prediction(X, y, I):\n",
    "    X_o = X[I]\n",
    "    \n",
    "    tmp = np.linalg.inv((np.dot(X_o.T, X_o) + 0.01 * np.identity(X.shape[1])))\n",
    "    tmp2 = np.dot(tmp, X_o.T)\n",
    "    w = np.dot(tmp2, y[I])\n",
    "    return np.dot(X, w)"
   ]
  },
  {
   "cell_type": "code",
   "execution_count": 8,
   "metadata": {},
   "outputs": [],
   "source": [
    "X_v = calculate_projection(Y_v)\n",
    "X_p = calculate_projection(Y_p)"
   ]
  },
  {
   "cell_type": "markdown",
   "metadata": {},
   "source": [
    "Um aus den prognoszierten Prozentwerten eine Hochrechnung für die ganze Schweiz berechnen können, müssen wir noch die Anzahl der Stimmberechtigten pro Gemeinde wissen. Dazu nehmen wir die Resultate aus der letzten Abstimmung."
   ]
  },
  {
   "cell_type": "code",
   "execution_count": 9,
   "metadata": {},
   "outputs": [],
   "source": [
    "yes_pivot['people'] = people[latest_vote].to_numpy()"
   ]
  },
  {
   "cell_type": "markdown",
   "metadata": {},
   "source": [
    "Jetzt können wir die Hochrechnung machen, weil wir bereits alle Resultate haben, nehmen wir zufällig n Resultate und berechnen daraus die anderen Endresultate."
   ]
  },
  {
   "cell_type": "code",
   "execution_count": 10,
   "metadata": {},
   "outputs": [
    {
     "name": "stdout",
     "output_type": "stream",
     "text": [
      "Final result: 0.38369029585171693\n"
     ]
    }
   ],
   "source": [
    "yes_pivot['vote-f'] = new_votes\n",
    "yes_pivot['part-f'] = new_parts\n",
    "\n",
    "yes_pivot['abs-f'] = yes_pivot['vote-f'] / 100 * yes_pivot['part-f'] / 100 * yes_pivot['people']\n",
    "\n",
    "yes_pivot['abs-no-f'] = (100 - yes_pivot['vote-f']) / 100 * yes_pivot['part-f'] / 100 * yes_pivot['people']\n",
    "\n",
    "\n",
    "total_yes_f = yes_pivot['abs-f'].sum()\n",
    "total_no_f = yes_pivot['abs-no-f'].sum()\n",
    "\n",
    "final_result = total_yes_f / (total_yes_f + total_no_f)\n",
    "\n",
    "print(\"Final result:\", final_result)"
   ]
  },
  {
   "cell_type": "markdown",
   "metadata": {},
   "source": [
    "Wir sind also bereits mit 100 Gemeinden ziemlich nahe am Schlussresultat. Als nächstes können wir mit den gleichen Methoden auch die Wahlbeteiligung vorhersagen und in das Endresultat einfliessen lassen."
   ]
  },
  {
   "cell_type": "code",
   "execution_count": 75,
   "metadata": {},
   "outputs": [
    {
     "data": {
      "text/plain": [
       "<matplotlib.legend.Legend at 0x7f3907b17f40>"
      ]
     },
     "execution_count": 75,
     "metadata": {},
     "output_type": "execute_result"
    },
    {
     "data": {
      "image/png": "[encoded data removed]",
      "text/plain": [
       "<Figure size 432x288 with 1 Axes>"
      ]
     },
     "metadata": {
      "needs_background": "light"
     },
     "output_type": "display_data"
    }
   ],
   "source": [
    "ns = []\n",
    "mean_errors = []\n",
    "median_errors = []\n",
    "min_errors = []\n",
    "max_errors = []\n",
    "np.random.seed(10)\n",
    "\n",
    "for n in range(60, 600, 50):\n",
    "    errors = []\n",
    "    for i in range(10):\n",
    "\n",
    "        chosen = np.random.choice(np.array(range(len(new_votes))), n, replace=False)\n",
    "\n",
    "        indexes = np.array(range(len(new_votes)), dtype=bool)\n",
    "        indexes[:] = False\n",
    "        indexes[chosen] = True\n",
    "\n",
    "        vote_p = prediction(X_v, new_votes, indexes)\n",
    "        yes_pivot['vote-p'] = vote_p\n",
    "\n",
    "        part_p = prediction(X_p, new_parts, indexes)\n",
    "        yes_pivot['part-p'] = part_p\n",
    "\n",
    "        yes_pivot['abs-p'] = yes_pivot['vote-p'] / 100 * yes_pivot['part-p'] / 100  * yes_pivot['people']\n",
    "        yes_pivot['abs-no-p'] = (100 - yes_pivot['vote-p']) /  100 * yes_pivot['part-p'] / 100  * yes_pivot['people']\n",
    "\n",
    "        yes_pivot['diff'] = np.abs(yes_pivot['abs-p'] - yes_pivot['abs-f'])\n",
    "\n",
    "        total_yes_p = yes_pivot['abs-p'].sum()\n",
    "        total_no_p = yes_pivot['abs-no-p'].sum()\n",
    "        predicted_result =  total_yes_p / (total_no_p + total_yes_p)\n",
    "        err = np.abs(final_result - predicted_result)\n",
    "        errors.append(err)\n",
    "    \n",
    "    errors = pd.Series(errors)\n",
    "    ns.append(n)\n",
    "    mean_errors.append(errors.mean())\n",
    "    median_errors.append(errors.median())\n",
    "    min_errors.append(errors.min())\n",
    "    max_errors.append(errors.max())\n",
    "\n",
    "plt.plot(ns, mean_errors, label=\"mean\")\n",
    "plt.plot(ns, median_errors, label=\"median\")\n",
    "plt.plot(ns, min_errors, label=\"min\")\n",
    "plt.plot(ns, max_errors, label=\"max\")\n",
    "plt.legend()"
   ]
  },
  {
   "cell_type": "code",
   "execution_count": 74,
   "metadata": {},
   "outputs": [
    {
     "data": {
      "text/plain": [
       "0.0006034794821040967"
      ]
     },
     "execution_count": 74,
     "metadata": {},
     "output_type": "execute_result"
    }
   ],
   "source": [
    "chosen = np.random.choice(np.array(range(len(new_votes))), 210, replace=False)\n",
    "\n",
    "indexes = np.array(range(len(new_votes)), dtype=bool)\n",
    "indexes[:] = False\n",
    "indexes[chosen] = True\n",
    "\n",
    "vote_p = prediction(X_v, new_votes, indexes)\n",
    "yes_pivot['vote-p'] = vote_p\n",
    "\n",
    "part_p = prediction(X_p, new_parts, indexes)\n",
    "yes_pivot['part-p'] = part_p\n",
    "\n",
    "yes_pivot['abs-p'] = yes_pivot['vote-p'] / 100 * yes_pivot['part-p'] / 100  * yes_pivot['people']\n",
    "yes_pivot['abs-no-p'] = (100 - yes_pivot['vote-p']) /  100 * yes_pivot['part-p'] / 100  * yes_pivot['people']\n",
    "\n",
    "yes_pivot['diff'] = np.abs(yes_pivot['abs-p'] - yes_pivot['abs-f'])\n",
    "\n",
    "total_yes_p = yes_pivot['abs-p'].sum()\n",
    "total_no_p = yes_pivot['abs-no-p'].sum()\n",
    "predicted_result =  total_yes_p / (total_no_p + total_yes_p)\n",
    "err = np.abs(final_result - predicted_result)\n",
    "err"
   ]
  }
 ],
 "metadata": {
  "kernelspec": {
   "display_name": "Python 3",
   "language": "python",
   "name": "python3"
  },
  "language_info": {
   "codemirror_mode": {
    "name": "ipython",
    "version": 3
   },
   "file_extension": ".py",
   "mimetype": "text/x-python",
   "name": "python",
   "nbconvert_exporter": "python",
   "pygments_lexer": "ipython3",
   "version": "3.8.5"
  }
 },
 "nbformat": 4,
 "nbformat_minor": 4
}
