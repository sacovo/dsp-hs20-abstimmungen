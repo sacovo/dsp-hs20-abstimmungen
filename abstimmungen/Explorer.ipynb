{
 "cells": [
  {
   "cell_type": "markdown",
   "metadata": {},
   "source": [
    "In dieser Datastory möchte ich Gemeinden anhand der Abstimmungsresultate zu gruppieren. Daraus möchte ich schauen, ob man daraus unterschiede zwischen verschiedenen Gruppen von Gemeinden erkennen kann.\n",
    "Zusätzlich möchte ich schauen, ob sich diese Gruppierungen auch eignen, um Hochrechnungen zu machen. Aus den Resultaten einiger Gemeinden könnte man die Resultate der Gruppen abschätzen und damit eine Hochrechnung machen."
   ]
  },
  {
   "cell_type": "markdown",
   "metadata": {},
   "source": [
    "Zuerst laden wir alle benötigten Bibliotheken, ausserdem werden wir noch openpyxl installieren, damit wir die Daten auch exportieren und so weiterverwenden können."
   ]
  },
  {
   "cell_type": "code",
   "execution_count": 1,
   "metadata": {},
   "outputs": [
    {
     "name": "stdout",
     "output_type": "stream",
     "text": [
      "Requirement already satisfied: openpyxl in /opt/conda/lib/python3.8/site-packages (3.0.5)\n",
      "Requirement already satisfied: jdcal in /opt/conda/lib/python3.8/site-packages (from openpyxl) (1.4.1)\n",
      "Requirement already satisfied: et-xmlfile in /opt/conda/lib/python3.8/site-packages (from openpyxl) (1.0.1)\n",
      "Note: you may need to restart the kernel to use updated packages.\n"
     ]
    }
   ],
   "source": [
    "%pip install openpyxl"
   ]
  },
  {
   "cell_type": "code",
   "execution_count": 2,
   "metadata": {},
   "outputs": [
    {
     "name": "stdout",
     "output_type": "stream",
     "text": [
      "Populating the interactive namespace from numpy and matplotlib\n"
     ]
    }
   ],
   "source": [
    "import pandas as pd\n",
    "import numpy as np\n",
    "from importlib import reload\n",
    "\n",
    "import ipywidgets as widgets\n",
    "from IPython.display import display, HTML\n",
    "\n",
    "from sklearn.cluster import AgglomerativeClustering\n",
    "from ipywidgets import interact\n",
    "import data_manager, ploting\n",
    "%pylab inline\n",
    "\n",
    "plt.style.use(\"default\")\n",
    "plt.rcParams['figure.figsize'] = [16, 8]\n",
    "plt.rcParams['figure.dpi'] = 100 # 200 e.g. is really fine, but slower\n",
    "rcParams[\"figure.autolayout\"] = False\n",
    "np.warnings.filterwarnings('ignore', category=np.VisibleDeprecationWarning)"
   ]
  },
  {
   "cell_type": "markdown",
   "metadata": {},
   "source": [
    "Damit wir die Grafiken gleich sehen, aktivieren wir noch den inline Style und machen ein paar Einstellungen, damit die Outputs ein bisschen grösser werden."
   ]
  },
  {
   "cell_type": "markdown",
   "metadata": {},
   "source": [
    "# Was sagen Abstimmungsresultate über die Gemeinden der Schweiz\n",
    "\n",
    "In der Schweiz gibt es sehr viele Abstimmungen und die Resultate davon sind einfach zugänglich. Bei den Abstimmungen gibt es immer Unterschiede zwischen Gemeinden, manchmal spricht man vom Rösti-Graben und manchmal auch vom Stadt-Land graben.\n",
    "\n",
    "Doch was hat es damit wirklich auf sich, wenn man nicht nur eine Abstimmung anschaut, sondern eine ganze \n",
    "Gruppe?\n",
    "\n",
    "Mit Clustering-Algorithmen lassen sich die Gemeinden gruppieren. Wir betrachten dabei eine Gemeinde als mehrdimensionalen Punkt. Jedes Abstimmungsresultat steht dabei quasi für eine Dimension. Und die Punkte, die in diesem X-Dimensionalen Raum am nächsten zusammen sind, ergeben unsere Gruppe."
   ]
  },
  {
   "cell_type": "markdown",
   "metadata": {},
   "source": [
    "Die Daten stammen vom Bundesamt für Statistik und können unter https://www.pxweb.bfs.admin.ch/pxweb/de/px-x-1703030000_101/px-x-1703030000_101/px-x-1703030000_101.px heruntergeladen werden. Das Datenfile umfasst die Resultate, die Stimmbeteiligung und die Anzahl der Stimmberechtigten der ausgewählten Vorlagen für jede Gemeinde:"
   ]
  },
  {
   "cell_type": "code",
   "execution_count": 3,
   "metadata": {},
   "outputs": [],
   "source": [
    "manager = data_manager.Manager('data/abstimmungen.csv')\n",
    "manager.load_results()\n",
    "viewer = ploting.Viewer(manager)"
   ]
  },
  {
   "cell_type": "markdown",
   "metadata": {},
   "source": [
    "Wir brauchen eine Liste aller Abstimmungen, damit wir uns einen Überblick verschaffen können und damit wir auswählen können, welche Abstimmungen für unsere Untersuchung relevant sind.\n",
    "\n",
    "Die Auswahl können wir dynamisch mit einem Widget machen. Wir können z. B. Vorlagen auswähelen, bei denen es um das gleiche Thema geht, und schauen, was für Gruppen wir dabei erhalten."
   ]
  },
  {
   "cell_type": "code",
   "execution_count": 4,
   "metadata": {},
   "outputs": [
    {
     "data": {
      "application/vnd.jupyter.widget-view+json": {
       "model_id": "376aff84926a481ea703f5d9eb5a1cf9",
       "version_major": 2,
       "version_minor": 0
      },
      "text/plain": [
       "interactive(children=(SelectMultiple(description='votation', index=(0, 1, 2, 3, 4, 5), layout=Layout(width='80…"
      ]
     },
     "metadata": {},
     "output_type": "display_data"
    }
   ],
   "source": [
    "viewer.explore_yes_pivot()"
   ]
  },
  {
   "cell_type": "markdown",
   "metadata": {},
   "source": [
    "Aus den gewählten Abstimmungen machen wir jetzt die Matrix, mit der wir die Gruppierung machen werden. Die Zeilen sind dabei die einzelnen Gemeinden und die Spalten die Abstimmungsresultate."
   ]
  },
  {
   "cell_type": "markdown",
   "metadata": {},
   "source": [
    "Wir verwenden als erstes den kMeans Algorithmus um die Gemeinden zu Clustern. Wir machen dabei zwischen 2 und 15 Cluster."
   ]
  },
  {
   "cell_type": "code",
   "execution_count": 5,
   "metadata": {},
   "outputs": [],
   "source": [
    "manager.cluster_results_kmeans(viewer.get_selected_votations())"
   ]
  },
  {
   "cell_type": "markdown",
   "metadata": {},
   "source": [
    "Als Vergleich nehmen wir noch den Agglomerative Clustering Algorithmus mit ebenfalls 2 bis 14 Clustern."
   ]
  },
  {
   "cell_type": "code",
   "execution_count": 6,
   "metadata": {},
   "outputs": [],
   "source": [
    "manager.cluster_results_agglomerative(viewer.get_selected_votations())"
   ]
  },
  {
   "cell_type": "code",
   "execution_count": 7,
   "metadata": {},
   "outputs": [
    {
     "data": {
      "application/vnd.jupyter.widget-view+json": {
       "model_id": "24f756bdde344f68b2604b17e35be7c0",
       "version_major": 2,
       "version_minor": 0
      },
      "text/plain": [
       "HBox(children=(Dropdown(description='X', options=('2020-09-27 Bundesbeschluss über die Beschaffung neuer Kampf…"
      ]
     },
     "metadata": {},
     "output_type": "display_data"
    },
    {
     "data": {
      "application/vnd.jupyter.widget-view+json": {
       "model_id": "2a1f78d0d2eb4138a9bf3f1bedfbe0bc",
       "version_major": 2,
       "version_minor": 0
      },
      "text/plain": [
       "Output()"
      ]
     },
     "metadata": {},
     "output_type": "display_data"
    }
   ],
   "source": [
    "viewer.scatter_explorer()"
   ]
  },
  {
   "cell_type": "markdown",
   "metadata": {},
   "source": [
    "Nachdem wir die Cluster gemacht haben, möchten wir diese noch anschauen können. Dazu machen wir einen Scatter Plot, in dem die X und die Y Achse jeweils die Resultate zweier Abstimmungen sind. Damit können wir schauen, wie sich die Gemeinden bei den gewählten Abstimmungen verhalten haben. Die Gruppen können wir durch Farben unterscheiden.\n",
    "\n",
    "Wir stellen die beiden Algorithmen in zwei Plots gegeinander dar, um zu schauen, ob es bei den Gruppenzuweisungen grosse Unterschiede gibt oder nicht."
   ]
  },
  {
   "cell_type": "code",
   "execution_count": 8,
   "metadata": {},
   "outputs": [
    {
     "data": {
      "application/vnd.jupyter.widget-view+json": {
       "model_id": "72874599251c4ae6ba028bbb9b876787",
       "version_major": 2,
       "version_minor": 0
      },
      "text/plain": [
       "HBox(children=(Dropdown(description='X', options=('2020-09-27 Bundesbeschluss über die Beschaffung neuer Kampf…"
      ]
     },
     "metadata": {},
     "output_type": "display_data"
    },
    {
     "data": {
      "application/vnd.jupyter.widget-view+json": {
       "model_id": "0090cf94047d44528614053b9ed3b027",
       "version_major": 2,
       "version_minor": 0
      },
      "text/plain": [
       "Output()"
      ]
     },
     "metadata": {},
     "output_type": "display_data"
    }
   ],
   "source": [
    "viewer.scatter_explorer_single(all_votations=True)"
   ]
  },
  {
   "cell_type": "markdown",
   "metadata": {},
   "source": [
    "All das von oben können wir auch in ein Widget stecken, damit wir die Daten ein bisschen angenehmer untersuchen können:"
   ]
  },
  {
   "cell_type": "markdown",
   "metadata": {},
   "source": [
    "Jetzt haben wir die Gemeinden aufgrund der ausgewählten Abstimmungen gruppiert. Jetzt können wir die Gemeinden noch mit zusätzlichen Informaitonen anreichern, und dann schauen, was für Unterschiede zwischen den Gruppen es gibt. Als erstes können wir die anderen Resultate wieder mit dieser Tabelle verknüpfen, also nicht nur die, mit denen wir das Clustering gemacht haben."
   ]
  },
  {
   "cell_type": "markdown",
   "metadata": {},
   "source": [
    "Als nächstes wollen wir noch Daten zum Ausländer\\*innenanteil, der Gemeindegrösse usw. anschauen, dazu verknüpfen wir das Gemeindeportrait des Bundesamtes für Statistik mit unseren Clustern."
   ]
  },
  {
   "cell_type": "code",
   "execution_count": 9,
   "metadata": {},
   "outputs": [],
   "source": [
    "manager.read_portrait()\n",
    "manager.join_portrait()"
   ]
  },
  {
   "cell_type": "code",
   "execution_count": 10,
   "metadata": {},
   "outputs": [
    {
     "data": {
      "application/vnd.jupyter.widget-view+json": {
       "model_id": "e10699f0e2254819a51213712262d163",
       "version_major": 2,
       "version_minor": 0
      },
      "text/plain": [
       "HBox(children=(IntSlider(value=2, max=14, min=2), Dropdown(options=('1996-03-10 Bundesbeschluss über den Ueber…"
      ]
     },
     "metadata": {},
     "output_type": "display_data"
    },
    {
     "data": {
      "application/vnd.jupyter.widget-view+json": {
       "model_id": "097cc56a749543f1b2cc29952057f714",
       "version_major": 2,
       "version_minor": 0
      },
      "text/plain": [
       "Tab(children=(Output(), Output()), _titles={'0': 'table', '1': 'boxplot'})"
      ]
     },
     "metadata": {},
     "output_type": "display_data"
    }
   ],
   "source": [
    "viewer.explore_single_portrait()"
   ]
  },
  {
   "cell_type": "markdown",
   "metadata": {},
   "source": [
    "Jetzt können wir Statistiken für die Gruppen anzeigen."
   ]
  },
  {
   "cell_type": "code",
   "execution_count": 11,
   "metadata": {},
   "outputs": [
    {
     "data": {
      "application/vnd.jupyter.widget-view+json": {
       "model_id": "a1cc273400bc43f5ab2aebdec118dfde",
       "version_major": 2,
       "version_minor": 0
      },
      "text/plain": [
       "HBox(children=(Dropdown(options=('1996-03-10 Bundesbeschluss über den Uebertritt der bernischen Gemeinde Velle…"
      ]
     },
     "metadata": {},
     "output_type": "display_data"
    },
    {
     "data": {
      "application/vnd.jupyter.widget-view+json": {
       "model_id": "6382f233e5e14078865663e53cdf77de",
       "version_major": 2,
       "version_minor": 0
      },
      "text/plain": [
       "Output()"
      ]
     },
     "metadata": {},
     "output_type": "display_data"
    }
   ],
   "source": [
    "viewer.scatter_portrait()"
   ]
  },
  {
   "cell_type": "code",
   "execution_count": 12,
   "metadata": {},
   "outputs": [
    {
     "data": {
      "application/vnd.jupyter.widget-view+json": {
       "model_id": "a674108ae43844c3b7605ac2e59ff350",
       "version_major": 2,
       "version_minor": 0
      },
      "text/plain": [
       "interactive(children=(IntSlider(value=2, description='k', max=14, min=2), Button(description='Run Interact', s…"
      ]
     },
     "metadata": {},
     "output_type": "display_data"
    }
   ],
   "source": [
    "viewer.show_map()"
   ]
  },
  {
   "cell_type": "code",
   "execution_count": null,
   "metadata": {},
   "outputs": [],
   "source": []
  }
 ],
 "metadata": {
  "kernelspec": {
   "display_name": "Python 3",
   "language": "python",
   "name": "python3"
  },
  "language_info": {
   "codemirror_mode": {
    "name": "ipython",
    "version": 3
   },
   "file_extension": ".py",
   "mimetype": "text/x-python",
   "name": "python",
   "nbconvert_exporter": "python",
   "pygments_lexer": "ipython3",
   "version": "3.8.5"
  }
 },
 "nbformat": 4,
 "nbformat_minor": 4
}
